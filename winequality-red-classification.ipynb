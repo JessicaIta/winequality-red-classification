{
 "cells": [
  {
   "cell_type": "markdown",
   "metadata": {},
   "source": [
    "# Red Wine Quality Classification with Tensorflow and Keras"
   ]
  },
  {
   "cell_type": "code",
   "execution_count": 1,
   "metadata": {},
   "outputs": [
    {
     "name": "stdout",
     "output_type": "stream",
     "text": [
      "2.1.0\n"
     ]
    }
   ],
   "source": [
    "import tensorflow as tf\n",
    "print(tf.__version__)"
   ]
  },
  {
   "cell_type": "code",
   "execution_count": 2,
   "metadata": {},
   "outputs": [],
   "source": [
    "from tensorflow import keras\n",
    "from tensorflow.keras import layers"
   ]
  },
  {
   "cell_type": "code",
   "execution_count": 3,
   "metadata": {},
   "outputs": [],
   "source": [
    "import numpy as np \n",
    "import pandas as pd \n",
    "import matplotlib.pyplot as plt \n",
    "import seaborn as sns"
   ]
  },
  {
   "cell_type": "code",
   "execution_count": 4,
   "metadata": {},
   "outputs": [],
   "source": [
    "# Online database\n",
    "import pandas as pd\n",
    "url = 'http://archive.ics.uci.edu/ml/machine-learning-databases/wine-quality/winequality-red.csv'\n",
    "data = pd.read_csv(url, sep=';')"
   ]
  },
  {
   "cell_type": "code",
   "execution_count": null,
   "metadata": {},
   "outputs": [],
   "source": [
    "# Optional: Local database (directory csv)\n",
    "import pandas as pd\n",
    "name = 'csv/winequality-red.csv'\n",
    "dataOff = pd.read_csv(url, sep=';')"
   ]
  },
  {
   "cell_type": "code",
   "execution_count": 5,
   "metadata": {},
   "outputs": [
    {
     "data": {
      "text/html": [
       "<div>\n",
       "<style scoped>\n",
       "    .dataframe tbody tr th:only-of-type {\n",
       "        vertical-align: middle;\n",
       "    }\n",
       "\n",
       "    .dataframe tbody tr th {\n",
       "        vertical-align: top;\n",
       "    }\n",
       "\n",
       "    .dataframe thead th {\n",
       "        text-align: right;\n",
       "    }\n",
       "</style>\n",
       "<table border=\"1\" class=\"dataframe\">\n",
       "  <thead>\n",
       "    <tr style=\"text-align: right;\">\n",
       "      <th></th>\n",
       "      <th>fixed acidity</th>\n",
       "      <th>volatile acidity</th>\n",
       "      <th>citric acid</th>\n",
       "      <th>residual sugar</th>\n",
       "      <th>chlorides</th>\n",
       "      <th>free sulfur dioxide</th>\n",
       "      <th>total sulfur dioxide</th>\n",
       "      <th>density</th>\n",
       "      <th>pH</th>\n",
       "      <th>sulphates</th>\n",
       "      <th>alcohol</th>\n",
       "      <th>quality</th>\n",
       "    </tr>\n",
       "  </thead>\n",
       "  <tbody>\n",
       "    <tr>\n",
       "      <th>0</th>\n",
       "      <td>7.4</td>\n",
       "      <td>0.700</td>\n",
       "      <td>0.00</td>\n",
       "      <td>1.9</td>\n",
       "      <td>0.076</td>\n",
       "      <td>11.0</td>\n",
       "      <td>34.0</td>\n",
       "      <td>0.99780</td>\n",
       "      <td>3.51</td>\n",
       "      <td>0.56</td>\n",
       "      <td>9.4</td>\n",
       "      <td>5</td>\n",
       "    </tr>\n",
       "    <tr>\n",
       "      <th>1</th>\n",
       "      <td>7.8</td>\n",
       "      <td>0.880</td>\n",
       "      <td>0.00</td>\n",
       "      <td>2.6</td>\n",
       "      <td>0.098</td>\n",
       "      <td>25.0</td>\n",
       "      <td>67.0</td>\n",
       "      <td>0.99680</td>\n",
       "      <td>3.20</td>\n",
       "      <td>0.68</td>\n",
       "      <td>9.8</td>\n",
       "      <td>5</td>\n",
       "    </tr>\n",
       "    <tr>\n",
       "      <th>2</th>\n",
       "      <td>7.8</td>\n",
       "      <td>0.760</td>\n",
       "      <td>0.04</td>\n",
       "      <td>2.3</td>\n",
       "      <td>0.092</td>\n",
       "      <td>15.0</td>\n",
       "      <td>54.0</td>\n",
       "      <td>0.99700</td>\n",
       "      <td>3.26</td>\n",
       "      <td>0.65</td>\n",
       "      <td>9.8</td>\n",
       "      <td>5</td>\n",
       "    </tr>\n",
       "    <tr>\n",
       "      <th>3</th>\n",
       "      <td>11.2</td>\n",
       "      <td>0.280</td>\n",
       "      <td>0.56</td>\n",
       "      <td>1.9</td>\n",
       "      <td>0.075</td>\n",
       "      <td>17.0</td>\n",
       "      <td>60.0</td>\n",
       "      <td>0.99800</td>\n",
       "      <td>3.16</td>\n",
       "      <td>0.58</td>\n",
       "      <td>9.8</td>\n",
       "      <td>6</td>\n",
       "    </tr>\n",
       "    <tr>\n",
       "      <th>4</th>\n",
       "      <td>7.4</td>\n",
       "      <td>0.700</td>\n",
       "      <td>0.00</td>\n",
       "      <td>1.9</td>\n",
       "      <td>0.076</td>\n",
       "      <td>11.0</td>\n",
       "      <td>34.0</td>\n",
       "      <td>0.99780</td>\n",
       "      <td>3.51</td>\n",
       "      <td>0.56</td>\n",
       "      <td>9.4</td>\n",
       "      <td>5</td>\n",
       "    </tr>\n",
       "    <tr>\n",
       "      <th>...</th>\n",
       "      <td>...</td>\n",
       "      <td>...</td>\n",
       "      <td>...</td>\n",
       "      <td>...</td>\n",
       "      <td>...</td>\n",
       "      <td>...</td>\n",
       "      <td>...</td>\n",
       "      <td>...</td>\n",
       "      <td>...</td>\n",
       "      <td>...</td>\n",
       "      <td>...</td>\n",
       "      <td>...</td>\n",
       "    </tr>\n",
       "    <tr>\n",
       "      <th>1594</th>\n",
       "      <td>6.2</td>\n",
       "      <td>0.600</td>\n",
       "      <td>0.08</td>\n",
       "      <td>2.0</td>\n",
       "      <td>0.090</td>\n",
       "      <td>32.0</td>\n",
       "      <td>44.0</td>\n",
       "      <td>0.99490</td>\n",
       "      <td>3.45</td>\n",
       "      <td>0.58</td>\n",
       "      <td>10.5</td>\n",
       "      <td>5</td>\n",
       "    </tr>\n",
       "    <tr>\n",
       "      <th>1595</th>\n",
       "      <td>5.9</td>\n",
       "      <td>0.550</td>\n",
       "      <td>0.10</td>\n",
       "      <td>2.2</td>\n",
       "      <td>0.062</td>\n",
       "      <td>39.0</td>\n",
       "      <td>51.0</td>\n",
       "      <td>0.99512</td>\n",
       "      <td>3.52</td>\n",
       "      <td>0.76</td>\n",
       "      <td>11.2</td>\n",
       "      <td>6</td>\n",
       "    </tr>\n",
       "    <tr>\n",
       "      <th>1596</th>\n",
       "      <td>6.3</td>\n",
       "      <td>0.510</td>\n",
       "      <td>0.13</td>\n",
       "      <td>2.3</td>\n",
       "      <td>0.076</td>\n",
       "      <td>29.0</td>\n",
       "      <td>40.0</td>\n",
       "      <td>0.99574</td>\n",
       "      <td>3.42</td>\n",
       "      <td>0.75</td>\n",
       "      <td>11.0</td>\n",
       "      <td>6</td>\n",
       "    </tr>\n",
       "    <tr>\n",
       "      <th>1597</th>\n",
       "      <td>5.9</td>\n",
       "      <td>0.645</td>\n",
       "      <td>0.12</td>\n",
       "      <td>2.0</td>\n",
       "      <td>0.075</td>\n",
       "      <td>32.0</td>\n",
       "      <td>44.0</td>\n",
       "      <td>0.99547</td>\n",
       "      <td>3.57</td>\n",
       "      <td>0.71</td>\n",
       "      <td>10.2</td>\n",
       "      <td>5</td>\n",
       "    </tr>\n",
       "    <tr>\n",
       "      <th>1598</th>\n",
       "      <td>6.0</td>\n",
       "      <td>0.310</td>\n",
       "      <td>0.47</td>\n",
       "      <td>3.6</td>\n",
       "      <td>0.067</td>\n",
       "      <td>18.0</td>\n",
       "      <td>42.0</td>\n",
       "      <td>0.99549</td>\n",
       "      <td>3.39</td>\n",
       "      <td>0.66</td>\n",
       "      <td>11.0</td>\n",
       "      <td>6</td>\n",
       "    </tr>\n",
       "  </tbody>\n",
       "</table>\n",
       "<p>1599 rows × 12 columns</p>\n",
       "</div>"
      ],
      "text/plain": [
       "      fixed acidity  volatile acidity  citric acid  residual sugar  chlorides  \\\n",
       "0               7.4             0.700         0.00             1.9      0.076   \n",
       "1               7.8             0.880         0.00             2.6      0.098   \n",
       "2               7.8             0.760         0.04             2.3      0.092   \n",
       "3              11.2             0.280         0.56             1.9      0.075   \n",
       "4               7.4             0.700         0.00             1.9      0.076   \n",
       "...             ...               ...          ...             ...        ...   \n",
       "1594            6.2             0.600         0.08             2.0      0.090   \n",
       "1595            5.9             0.550         0.10             2.2      0.062   \n",
       "1596            6.3             0.510         0.13             2.3      0.076   \n",
       "1597            5.9             0.645         0.12             2.0      0.075   \n",
       "1598            6.0             0.310         0.47             3.6      0.067   \n",
       "\n",
       "      free sulfur dioxide  total sulfur dioxide  density    pH  sulphates  \\\n",
       "0                    11.0                  34.0  0.99780  3.51       0.56   \n",
       "1                    25.0                  67.0  0.99680  3.20       0.68   \n",
       "2                    15.0                  54.0  0.99700  3.26       0.65   \n",
       "3                    17.0                  60.0  0.99800  3.16       0.58   \n",
       "4                    11.0                  34.0  0.99780  3.51       0.56   \n",
       "...                   ...                   ...      ...   ...        ...   \n",
       "1594                 32.0                  44.0  0.99490  3.45       0.58   \n",
       "1595                 39.0                  51.0  0.99512  3.52       0.76   \n",
       "1596                 29.0                  40.0  0.99574  3.42       0.75   \n",
       "1597                 32.0                  44.0  0.99547  3.57       0.71   \n",
       "1598                 18.0                  42.0  0.99549  3.39       0.66   \n",
       "\n",
       "      alcohol  quality  \n",
       "0         9.4        5  \n",
       "1         9.8        5  \n",
       "2         9.8        5  \n",
       "3         9.8        6  \n",
       "4         9.4        5  \n",
       "...       ...      ...  \n",
       "1594     10.5        5  \n",
       "1595     11.2        6  \n",
       "1596     11.0        6  \n",
       "1597     10.2        5  \n",
       "1598     11.0        6  \n",
       "\n",
       "[1599 rows x 12 columns]"
      ]
     },
     "execution_count": 5,
     "metadata": {},
     "output_type": "execute_result"
    }
   ],
   "source": [
    "data"
   ]
  },
  {
   "cell_type": "code",
   "execution_count": 6,
   "metadata": {},
   "outputs": [
    {
     "name": "stdout",
     "output_type": "stream",
     "text": [
      "<class 'pandas.core.frame.DataFrame'>\n",
      "RangeIndex: 1599 entries, 0 to 1598\n",
      "Data columns (total 12 columns):\n",
      " #   Column                Non-Null Count  Dtype  \n",
      "---  ------                --------------  -----  \n",
      " 0   fixed acidity         1599 non-null   float64\n",
      " 1   volatile acidity      1599 non-null   float64\n",
      " 2   citric acid           1599 non-null   float64\n",
      " 3   residual sugar        1599 non-null   float64\n",
      " 4   chlorides             1599 non-null   float64\n",
      " 5   free sulfur dioxide   1599 non-null   float64\n",
      " 6   total sulfur dioxide  1599 non-null   float64\n",
      " 7   density               1599 non-null   float64\n",
      " 8   pH                    1599 non-null   float64\n",
      " 9   sulphates             1599 non-null   float64\n",
      " 10  alcohol               1599 non-null   float64\n",
      " 11  quality               1599 non-null   int64  \n",
      "dtypes: float64(11), int64(1)\n",
      "memory usage: 150.0 KB\n"
     ]
    }
   ],
   "source": [
    "data.info()"
   ]
  },
  {
   "cell_type": "code",
   "execution_count": 7,
   "metadata": {},
   "outputs": [
    {
     "data": {
      "text/plain": [
       "Index(['fixed acidity', 'volatile acidity', 'citric acid', 'residual sugar',\n",
       "       'chlorides', 'free sulfur dioxide', 'total sulfur dioxide', 'density',\n",
       "       'pH', 'sulphates', 'alcohol', 'quality'],\n",
       "      dtype='object')"
      ]
     },
     "execution_count": 7,
     "metadata": {},
     "output_type": "execute_result"
    }
   ],
   "source": [
    "columns = data.columns\n",
    "\n",
    "columns"
   ]
  },
  {
   "cell_type": "code",
   "execution_count": 8,
   "metadata": {},
   "outputs": [
    {
     "data": {
      "text/plain": [
       "fixed acidity           0\n",
       "volatile acidity        0\n",
       "citric acid             0\n",
       "residual sugar          0\n",
       "chlorides               0\n",
       "free sulfur dioxide     0\n",
       "total sulfur dioxide    0\n",
       "density                 0\n",
       "pH                      0\n",
       "sulphates               0\n",
       "alcohol                 0\n",
       "quality                 0\n",
       "dtype: int64"
      ]
     },
     "execution_count": 8,
     "metadata": {},
     "output_type": "execute_result"
    }
   ],
   "source": [
    "# Null data\n",
    "data.isnull().sum()"
   ]
  },
  {
   "cell_type": "markdown",
   "metadata": {},
   "source": [
    "## Descriptive statistics"
   ]
  },
  {
   "cell_type": "code",
   "execution_count": 9,
   "metadata": {},
   "outputs": [
    {
     "data": {
      "text/html": [
       "<div>\n",
       "<style scoped>\n",
       "    .dataframe tbody tr th:only-of-type {\n",
       "        vertical-align: middle;\n",
       "    }\n",
       "\n",
       "    .dataframe tbody tr th {\n",
       "        vertical-align: top;\n",
       "    }\n",
       "\n",
       "    .dataframe thead th {\n",
       "        text-align: right;\n",
       "    }\n",
       "</style>\n",
       "<table border=\"1\" class=\"dataframe\">\n",
       "  <thead>\n",
       "    <tr style=\"text-align: right;\">\n",
       "      <th></th>\n",
       "      <th>count</th>\n",
       "      <th>mean</th>\n",
       "      <th>std</th>\n",
       "      <th>min</th>\n",
       "      <th>25%</th>\n",
       "      <th>50%</th>\n",
       "      <th>75%</th>\n",
       "      <th>max</th>\n",
       "    </tr>\n",
       "  </thead>\n",
       "  <tbody>\n",
       "    <tr>\n",
       "      <th>fixed acidity</th>\n",
       "      <td>1599.0</td>\n",
       "      <td>8.319637</td>\n",
       "      <td>1.741096</td>\n",
       "      <td>4.60000</td>\n",
       "      <td>7.1000</td>\n",
       "      <td>7.90000</td>\n",
       "      <td>9.200000</td>\n",
       "      <td>15.90000</td>\n",
       "    </tr>\n",
       "    <tr>\n",
       "      <th>volatile acidity</th>\n",
       "      <td>1599.0</td>\n",
       "      <td>0.527821</td>\n",
       "      <td>0.179060</td>\n",
       "      <td>0.12000</td>\n",
       "      <td>0.3900</td>\n",
       "      <td>0.52000</td>\n",
       "      <td>0.640000</td>\n",
       "      <td>1.58000</td>\n",
       "    </tr>\n",
       "    <tr>\n",
       "      <th>citric acid</th>\n",
       "      <td>1599.0</td>\n",
       "      <td>0.270976</td>\n",
       "      <td>0.194801</td>\n",
       "      <td>0.00000</td>\n",
       "      <td>0.0900</td>\n",
       "      <td>0.26000</td>\n",
       "      <td>0.420000</td>\n",
       "      <td>1.00000</td>\n",
       "    </tr>\n",
       "    <tr>\n",
       "      <th>residual sugar</th>\n",
       "      <td>1599.0</td>\n",
       "      <td>2.538806</td>\n",
       "      <td>1.409928</td>\n",
       "      <td>0.90000</td>\n",
       "      <td>1.9000</td>\n",
       "      <td>2.20000</td>\n",
       "      <td>2.600000</td>\n",
       "      <td>15.50000</td>\n",
       "    </tr>\n",
       "    <tr>\n",
       "      <th>chlorides</th>\n",
       "      <td>1599.0</td>\n",
       "      <td>0.087467</td>\n",
       "      <td>0.047065</td>\n",
       "      <td>0.01200</td>\n",
       "      <td>0.0700</td>\n",
       "      <td>0.07900</td>\n",
       "      <td>0.090000</td>\n",
       "      <td>0.61100</td>\n",
       "    </tr>\n",
       "    <tr>\n",
       "      <th>free sulfur dioxide</th>\n",
       "      <td>1599.0</td>\n",
       "      <td>15.874922</td>\n",
       "      <td>10.460157</td>\n",
       "      <td>1.00000</td>\n",
       "      <td>7.0000</td>\n",
       "      <td>14.00000</td>\n",
       "      <td>21.000000</td>\n",
       "      <td>72.00000</td>\n",
       "    </tr>\n",
       "    <tr>\n",
       "      <th>total sulfur dioxide</th>\n",
       "      <td>1599.0</td>\n",
       "      <td>46.467792</td>\n",
       "      <td>32.895324</td>\n",
       "      <td>6.00000</td>\n",
       "      <td>22.0000</td>\n",
       "      <td>38.00000</td>\n",
       "      <td>62.000000</td>\n",
       "      <td>289.00000</td>\n",
       "    </tr>\n",
       "    <tr>\n",
       "      <th>density</th>\n",
       "      <td>1599.0</td>\n",
       "      <td>0.996747</td>\n",
       "      <td>0.001887</td>\n",
       "      <td>0.99007</td>\n",
       "      <td>0.9956</td>\n",
       "      <td>0.99675</td>\n",
       "      <td>0.997835</td>\n",
       "      <td>1.00369</td>\n",
       "    </tr>\n",
       "    <tr>\n",
       "      <th>pH</th>\n",
       "      <td>1599.0</td>\n",
       "      <td>3.311113</td>\n",
       "      <td>0.154386</td>\n",
       "      <td>2.74000</td>\n",
       "      <td>3.2100</td>\n",
       "      <td>3.31000</td>\n",
       "      <td>3.400000</td>\n",
       "      <td>4.01000</td>\n",
       "    </tr>\n",
       "    <tr>\n",
       "      <th>sulphates</th>\n",
       "      <td>1599.0</td>\n",
       "      <td>0.658149</td>\n",
       "      <td>0.169507</td>\n",
       "      <td>0.33000</td>\n",
       "      <td>0.5500</td>\n",
       "      <td>0.62000</td>\n",
       "      <td>0.730000</td>\n",
       "      <td>2.00000</td>\n",
       "    </tr>\n",
       "    <tr>\n",
       "      <th>alcohol</th>\n",
       "      <td>1599.0</td>\n",
       "      <td>10.422983</td>\n",
       "      <td>1.065668</td>\n",
       "      <td>8.40000</td>\n",
       "      <td>9.5000</td>\n",
       "      <td>10.20000</td>\n",
       "      <td>11.100000</td>\n",
       "      <td>14.90000</td>\n",
       "    </tr>\n",
       "  </tbody>\n",
       "</table>\n",
       "</div>"
      ],
      "text/plain": [
       "                       count       mean        std      min      25%  \\\n",
       "fixed acidity         1599.0   8.319637   1.741096  4.60000   7.1000   \n",
       "volatile acidity      1599.0   0.527821   0.179060  0.12000   0.3900   \n",
       "citric acid           1599.0   0.270976   0.194801  0.00000   0.0900   \n",
       "residual sugar        1599.0   2.538806   1.409928  0.90000   1.9000   \n",
       "chlorides             1599.0   0.087467   0.047065  0.01200   0.0700   \n",
       "free sulfur dioxide   1599.0  15.874922  10.460157  1.00000   7.0000   \n",
       "total sulfur dioxide  1599.0  46.467792  32.895324  6.00000  22.0000   \n",
       "density               1599.0   0.996747   0.001887  0.99007   0.9956   \n",
       "pH                    1599.0   3.311113   0.154386  2.74000   3.2100   \n",
       "sulphates             1599.0   0.658149   0.169507  0.33000   0.5500   \n",
       "alcohol               1599.0  10.422983   1.065668  8.40000   9.5000   \n",
       "\n",
       "                           50%        75%        max  \n",
       "fixed acidity          7.90000   9.200000   15.90000  \n",
       "volatile acidity       0.52000   0.640000    1.58000  \n",
       "citric acid            0.26000   0.420000    1.00000  \n",
       "residual sugar         2.20000   2.600000   15.50000  \n",
       "chlorides              0.07900   0.090000    0.61100  \n",
       "free sulfur dioxide   14.00000  21.000000   72.00000  \n",
       "total sulfur dioxide  38.00000  62.000000  289.00000  \n",
       "density                0.99675   0.997835    1.00369  \n",
       "pH                     3.31000   3.400000    4.01000  \n",
       "sulphates              0.62000   0.730000    2.00000  \n",
       "alcohol               10.20000  11.100000   14.90000  "
      ]
     },
     "execution_count": 9,
     "metadata": {},
     "output_type": "execute_result"
    }
   ],
   "source": [
    "data_stats = data.describe()\n",
    "\n",
    "data_stats.pop(\"quality\")\n",
    "\n",
    "# Transposed Matrix\n",
    "data_stats = data_stats.transpose()\n",
    "\n",
    "data_stats"
   ]
  },
  {
   "cell_type": "markdown",
   "metadata": {},
   "source": [
    "## Functions (Transform data)"
   ]
  },
  {
   "cell_type": "code",
   "execution_count": 10,
   "metadata": {},
   "outputs": [],
   "source": [
    "# Stardardization\n",
    "def normStandard(x):\n",
    "    return (x - data_stats['mean']) / data_stats['std']\n",
    "\n",
    "# MinMax\n",
    "def minMax(x):\n",
    "    return (x - data_stats['min'])/(data_stats['max'] - data_stats['min'])"
   ]
  },
  {
   "cell_type": "markdown",
   "metadata": {},
   "source": [
    "## Histogram"
   ]
  },
  {
   "cell_type": "code",
   "execution_count": 11,
   "metadata": {},
   "outputs": [
    {
     "data": {
      "text/plain": [
       "<matplotlib.axes._subplots.AxesSubplot at 0x2d115026d48>"
      ]
     },
     "execution_count": 11,
     "metadata": {},
     "output_type": "execute_result"
    },
    {
     "data": {
      "image/png": "[encoded data removed]",
      "text/plain": [
       "<Figure size 432x288 with 1 Axes>"
      ]
     },
     "metadata": {
      "needs_background": "light"
     },
     "output_type": "display_data"
    }
   ],
   "source": [
    "data['quality'].plot.hist(bins=5, color='green', edgecolor='black')"
   ]
  },
  {
   "cell_type": "markdown",
   "metadata": {},
   "source": [
    "## Split the data into train and test"
   ]
  },
  {
   "cell_type": "code",
   "execution_count": 12,
   "metadata": {},
   "outputs": [],
   "source": [
    "# 70% to train e 30% to test\n",
    "\n",
    "train_dataset = data.sample(frac=0.7,random_state=0)\n",
    "test_dataset = data.drop(train_dataset.index)"
   ]
  },
  {
   "cell_type": "markdown",
   "metadata": {},
   "source": [
    "## Split features from labels"
   ]
  },
  {
   "cell_type": "code",
   "execution_count": 13,
   "metadata": {},
   "outputs": [],
   "source": [
    "train_labels = train_dataset.pop('quality')\n",
    "test_labels = test_dataset.pop('quality')"
   ]
  },
  {
   "cell_type": "markdown",
   "metadata": {},
   "source": [
    "## Feature Scaling the train data"
   ]
  },
  {
   "cell_type": "code",
   "execution_count": 14,
   "metadata": {},
   "outputs": [],
   "source": [
    "# Standardization is the process of putting different variables on the same scale\n",
    "\n",
    "normed_train_data = normStandard(train_dataset)\n",
    "normed_test_data = normStandard(test_dataset)"
   ]
  },
  {
   "cell_type": "markdown",
   "metadata": {},
   "source": [
    "## Build Model"
   ]
  },
  {
   "cell_type": "code",
   "execution_count": 15,
   "metadata": {},
   "outputs": [],
   "source": [
    "def build_model():\n",
    "    model = keras.Sequential([\n",
    "        layers.Dense(64, activation='relu', input_shape=[len(train_dataset.keys())]),\n",
    "        layers.Dense(64, activation='relu'),\n",
    "        layers.Dense(1)\n",
    "    ])\n",
    "    \n",
    "    optimizer = tf.keras.optimizers.RMSprop(0.001)\n",
    "    \n",
    "    model.compile(optimizer=optimizer,\n",
    "              loss='mae',\n",
    "              metrics=['mae', 'mse'])\n",
    "    \n",
    "    return model\n",
    "    "
   ]
  },
  {
   "cell_type": "code",
   "execution_count": 16,
   "metadata": {},
   "outputs": [],
   "source": [
    "model = build_model()"
   ]
  },
  {
   "cell_type": "code",
   "execution_count": 17,
   "metadata": {},
   "outputs": [
    {
     "name": "stdout",
     "output_type": "stream",
     "text": [
      "Model: \"sequential\"\n",
      "_________________________________________________________________\n",
      "Layer (type)                 Output Shape              Param #   \n",
      "=================================================================\n",
      "dense (Dense)                (None, 64)                768       \n",
      "_________________________________________________________________\n",
      "dense_1 (Dense)              (None, 64)                4160      \n",
      "_________________________________________________________________\n",
      "dense_2 (Dense)              (None, 1)                 65        \n",
      "=================================================================\n",
      "Total params: 4,993\n",
      "Trainable params: 4,993\n",
      "Non-trainable params: 0\n",
      "_________________________________________________________________\n"
     ]
    }
   ],
   "source": [
    "model.summary()"
   ]
  },
  {
   "cell_type": "markdown",
   "metadata": {},
   "source": [
    "## Train the model"
   ]
  },
  {
   "cell_type": "markdown",
   "metadata": {},
   "source": [
    "### Callbacks"
   ]
  },
  {
   "cell_type": "code",
   "execution_count": 18,
   "metadata": {},
   "outputs": [],
   "source": [
    "# This callback will stop the training when there is no improvement in\n",
    "# the validation loss for three consecutive epochs.\n",
    "\n",
    "callback_EarlyStop = tf.keras.callbacks.EarlyStopping(monitor='mae', patience=10)"
   ]
  },
  {
   "cell_type": "code",
   "execution_count": 19,
   "metadata": {},
   "outputs": [],
   "source": [
    "# You can create your callbacks functions \n",
    "\n",
    "class myCallback(tf.keras.callbacks.Callback):\n",
    "    \n",
    "    def on_epoch_end(self, epoch, logs={}):\n",
    "        if(logs.get('mae') < 0.05):\n",
    "            print(\"\\nReached 0.05 mse so cancelling training!\")\n",
    "            self.model.stop_training = True\n",
    "\n",
    "callbacks = myCallback()"
   ]
  },
  {
   "cell_type": "markdown",
   "metadata": {},
   "source": [
    "### Training"
   ]
  },
  {
   "cell_type": "code",
   "execution_count": 20,
   "metadata": {},
   "outputs": [
    {
     "name": "stdout",
     "output_type": "stream",
     "text": [
      "Train on 1119 samples\n",
      "Epoch 1/1000\n",
      "1119/1119 [==============================] - 0s 382us/sample - loss: 2.9786 - mae: 2.9786 - mse: 11.4364\n",
      "Epoch 2/1000\n",
      "1119/1119 [==============================] - 0s 33us/sample - loss: 1.3015 - mae: 1.3015 - mse: 2.9679\n",
      "Epoch 3/1000\n",
      "1119/1119 [==============================] - 0s 31us/sample - loss: 1.0975 - mae: 1.0975 - mse: 2.1023\n",
      "Epoch 4/1000\n",
      "1119/1119 [==============================] - 0s 33us/sample - loss: 0.9739 - mae: 0.9739 - mse: 1.6349\n",
      "Epoch 5/1000\n",
      "1119/1119 [==============================] - 0s 32us/sample - loss: 0.8858 - mae: 0.8858 - mse: 1.3513\n",
      "Epoch 6/1000\n",
      "1119/1119 [==============================] - 0s 31us/sample - loss: 0.8058 - mae: 0.8058 - mse: 1.1244\n",
      "Epoch 7/1000\n",
      "1119/1119 [==============================] - 0s 32us/sample - loss: 0.7468 - mae: 0.7468 - mse: 0.9760\n",
      "Epoch 8/1000\n",
      "1119/1119 [==============================] - 0s 33us/sample - loss: 0.6956 - mae: 0.6956 - mse: 0.8547\n",
      "Epoch 9/1000\n",
      "1119/1119 [==============================] - 0s 32us/sample - loss: 0.6562 - mae: 0.6562 - mse: 0.7718\n",
      "Epoch 10/1000\n",
      "1119/1119 [==============================] - 0s 31us/sample - loss: 0.6251 - mae: 0.6251 - mse: 0.7058\n",
      "Epoch 11/1000\n",
      "1119/1119 [==============================] - 0s 32us/sample - loss: 0.5999 - mae: 0.5999 - mse: 0.6414\n",
      "Epoch 12/1000\n",
      "1119/1119 [==============================] - ETA: 0s - loss: 0.5762 - mae: 0.5762 - mse: 0.524 - 0s 33us/sample - loss: 0.5790 - mae: 0.5790 - mse: 0.5975\n",
      "Epoch 13/1000\n",
      "1119/1119 [==============================] - 0s 31us/sample - loss: 0.5605 - mae: 0.5605 - mse: 0.5525\n",
      "Epoch 14/1000\n",
      "1119/1119 [==============================] - 0s 31us/sample - loss: 0.5534 - mae: 0.5534 - mse: 0.5453\n",
      "Epoch 15/1000\n",
      "1119/1119 [==============================] - 0s 31us/sample - loss: 0.5311 - mae: 0.5311 - mse: 0.5182\n",
      "Epoch 16/1000\n",
      "1119/1119 [==============================] - 0s 33us/sample - loss: 0.5264 - mae: 0.5264 - mse: 0.5018\n",
      "Epoch 17/1000\n",
      "1119/1119 [==============================] - 0s 37us/sample - loss: 0.5133 - mae: 0.5133 - mse: 0.4671\n",
      "Epoch 18/1000\n",
      "1119/1119 [==============================] - 0s 38us/sample - loss: 0.5030 - mae: 0.5030 - mse: 0.4582\n",
      "Epoch 19/1000\n",
      "1119/1119 [==============================] - 0s 31us/sample - loss: 0.5024 - mae: 0.5024 - mse: 0.4628\n",
      "Epoch 20/1000\n",
      "1119/1119 [==============================] - 0s 32us/sample - loss: 0.4929 - mae: 0.4929 - mse: 0.4417\n",
      "Epoch 21/1000\n",
      "1119/1119 [==============================] - 0s 34us/sample - loss: 0.4865 - mae: 0.4865 - mse: 0.4310\n",
      "Epoch 22/1000\n",
      "1119/1119 [==============================] - 0s 33us/sample - loss: 0.4735 - mae: 0.4735 - mse: 0.4188\n",
      "Epoch 23/1000\n",
      "1119/1119 [==============================] - 0s 32us/sample - loss: 0.4709 - mae: 0.4709 - mse: 0.4093\n",
      "Epoch 24/1000\n",
      "1119/1119 [==============================] - 0s 32us/sample - loss: 0.4680 - mae: 0.4680 - mse: 0.4015\n",
      "Epoch 25/1000\n",
      "1119/1119 [==============================] - 0s 33us/sample - loss: 0.4648 - mae: 0.4648 - mse: 0.3950\n",
      "Epoch 26/1000\n",
      "1119/1119 [==============================] - 0s 33us/sample - loss: 0.4569 - mae: 0.4569 - mse: 0.3973\n",
      "Epoch 27/1000\n",
      "1119/1119 [==============================] - 0s 32us/sample - loss: 0.4564 - mae: 0.4564 - mse: 0.3866\n",
      "Epoch 28/1000\n",
      "1119/1119 [==============================] - 0s 32us/sample - loss: 0.4495 - mae: 0.4495 - mse: 0.3847\n",
      "Epoch 29/1000\n",
      "1119/1119 [==============================] - 0s 32us/sample - loss: 0.4415 - mae: 0.4415 - mse: 0.3673\n",
      "Epoch 30/1000\n",
      "1119/1119 [==============================] - 0s 32us/sample - loss: 0.4506 - mae: 0.4506 - mse: 0.3779\n",
      "Epoch 31/1000\n",
      "1119/1119 [==============================] - 0s 34us/sample - loss: 0.4418 - mae: 0.4418 - mse: 0.3584\n",
      "Epoch 32/1000\n",
      "1119/1119 [==============================] - 0s 37us/sample - loss: 0.4353 - mae: 0.4353 - mse: 0.3562\n",
      "Epoch 33/1000\n",
      "1119/1119 [==============================] - 0s 37us/sample - loss: 0.4476 - mae: 0.4476 - mse: 0.3675\n",
      "Epoch 34/1000\n",
      "1119/1119 [==============================] - 0s 30us/sample - loss: 0.4266 - mae: 0.4266 - mse: 0.3506\n",
      "Epoch 35/1000\n",
      "1119/1119 [==============================] - 0s 30us/sample - loss: 0.4370 - mae: 0.4370 - mse: 0.3668\n",
      "Epoch 36/1000\n",
      "1119/1119 [==============================] - 0s 32us/sample - loss: 0.4275 - mae: 0.4275 - mse: 0.3566\n",
      "Epoch 37/1000\n",
      "1119/1119 [==============================] - 0s 34us/sample - loss: 0.4264 - mae: 0.4264 - mse: 0.3481\n",
      "Epoch 38/1000\n",
      "1119/1119 [==============================] - 0s 32us/sample - loss: 0.4228 - mae: 0.4228 - mse: 0.3416\n",
      "Epoch 39/1000\n",
      "1119/1119 [==============================] - 0s 31us/sample - loss: 0.4201 - mae: 0.4201 - mse: 0.3453\n",
      "Epoch 40/1000\n",
      "1119/1119 [==============================] - 0s 33us/sample - loss: 0.4297 - mae: 0.4297 - mse: 0.3480\n",
      "Epoch 41/1000\n",
      "1119/1119 [==============================] - 0s 32us/sample - loss: 0.4197 - mae: 0.4197 - mse: 0.3365\n",
      "Epoch 42/1000\n",
      "1119/1119 [==============================] - 0s 34us/sample - loss: 0.4160 - mae: 0.4160 - mse: 0.3295\n",
      "Epoch 43/1000\n",
      "1119/1119 [==============================] - 0s 31us/sample - loss: 0.4202 - mae: 0.4202 - mse: 0.3346\n",
      "Epoch 44/1000\n",
      "1119/1119 [==============================] - 0s 35us/sample - loss: 0.4213 - mae: 0.4213 - mse: 0.3322\n",
      "Epoch 45/1000\n",
      "1119/1119 [==============================] - 0s 39us/sample - loss: 0.4025 - mae: 0.4025 - mse: 0.3146\n",
      "Epoch 46/1000\n",
      "1119/1119 [==============================] - 0s 34us/sample - loss: 0.4158 - mae: 0.4158 - mse: 0.3280\n",
      "Epoch 47/1000\n",
      "1119/1119 [==============================] - 0s 32us/sample - loss: 0.4089 - mae: 0.4089 - mse: 0.3136\n",
      "Epoch 48/1000\n",
      "1119/1119 [==============================] - 0s 35us/sample - loss: 0.4096 - mae: 0.4096 - mse: 0.3267\n",
      "Epoch 49/1000\n",
      "1119/1119 [==============================] - 0s 31us/sample - loss: 0.4119 - mae: 0.4119 - mse: 0.3260\n",
      "Epoch 50/1000\n",
      "1119/1119 [==============================] - 0s 36us/sample - loss: 0.4024 - mae: 0.4024 - mse: 0.3184\n",
      "Epoch 51/1000\n",
      "1119/1119 [==============================] - 0s 33us/sample - loss: 0.4034 - mae: 0.4034 - mse: 0.3218\n",
      "Epoch 52/1000\n",
      "1119/1119 [==============================] - 0s 35us/sample - loss: 0.3976 - mae: 0.3976 - mse: 0.3057\n",
      "Epoch 53/1000\n",
      "1119/1119 [==============================] - 0s 33us/sample - loss: 0.4012 - mae: 0.4012 - mse: 0.3034\n",
      "Epoch 54/1000\n",
      "1119/1119 [==============================] - 0s 34us/sample - loss: 0.4020 - mae: 0.4020 - mse: 0.3069\n",
      "Epoch 55/1000\n",
      "1119/1119 [==============================] - 0s 32us/sample - loss: 0.4007 - mae: 0.4007 - mse: 0.3103\n",
      "Epoch 56/1000\n",
      "1119/1119 [==============================] - 0s 31us/sample - loss: 0.3958 - mae: 0.3958 - mse: 0.3028\n",
      "Epoch 57/1000\n",
      "1119/1119 [==============================] - 0s 33us/sample - loss: 0.3883 - mae: 0.3883 - mse: 0.2932\n",
      "Epoch 58/1000\n",
      "1119/1119 [==============================] - ETA: 0s - loss: 0.4739 - mae: 0.4739 - mse: 0.378 - 0s 34us/sample - loss: 0.3925 - mae: 0.3925 - mse: 0.2989\n",
      "Epoch 59/1000\n",
      "1119/1119 [==============================] - 0s 32us/sample - loss: 0.3934 - mae: 0.3934 - mse: 0.2981\n",
      "Epoch 60/1000\n",
      "1119/1119 [==============================] - 0s 33us/sample - loss: 0.3906 - mae: 0.3906 - mse: 0.2900\n",
      "Epoch 61/1000\n",
      "1119/1119 [==============================] - 0s 32us/sample - loss: 0.3832 - mae: 0.3832 - mse: 0.2940\n",
      "Epoch 62/1000\n",
      "1119/1119 [==============================] - 0s 33us/sample - loss: 0.3890 - mae: 0.3890 - mse: 0.3017\n",
      "Epoch 63/1000\n",
      "1119/1119 [==============================] - 0s 33us/sample - loss: 0.3931 - mae: 0.3931 - mse: 0.3003\n",
      "Epoch 64/1000\n",
      "1119/1119 [==============================] - 0s 33us/sample - loss: 0.3937 - mae: 0.3937 - mse: 0.3000\n",
      "Epoch 65/1000\n",
      "1119/1119 [==============================] - 0s 34us/sample - loss: 0.3906 - mae: 0.3906 - mse: 0.2973\n",
      "Epoch 66/1000\n",
      "1119/1119 [==============================] - 0s 32us/sample - loss: 0.3855 - mae: 0.3855 - mse: 0.2952\n",
      "Epoch 67/1000\n",
      "1119/1119 [==============================] - 0s 33us/sample - loss: 0.3789 - mae: 0.3789 - mse: 0.2860\n",
      "Epoch 68/1000\n",
      "1119/1119 [==============================] - 0s 34us/sample - loss: 0.3793 - mae: 0.3793 - mse: 0.2839\n",
      "Epoch 69/1000\n",
      "1119/1119 [==============================] - 0s 31us/sample - loss: 0.3843 - mae: 0.3843 - mse: 0.2905\n",
      "Epoch 70/1000\n"
     ]
    },
    {
     "name": "stdout",
     "output_type": "stream",
     "text": [
      "1119/1119 [==============================] - 0s 32us/sample - loss: 0.3920 - mae: 0.3920 - mse: 0.2958\n",
      "Epoch 71/1000\n",
      "1119/1119 [==============================] - 0s 34us/sample - loss: 0.3777 - mae: 0.3777 - mse: 0.2799\n",
      "Epoch 72/1000\n",
      "1119/1119 [==============================] - 0s 37us/sample - loss: 0.3764 - mae: 0.3764 - mse: 0.2824\n",
      "Epoch 73/1000\n",
      "1119/1119 [==============================] - 0s 34us/sample - loss: 0.3764 - mae: 0.3764 - mse: 0.2877\n",
      "Epoch 74/1000\n",
      "1119/1119 [==============================] - 0s 32us/sample - loss: 0.3783 - mae: 0.3783 - mse: 0.2823\n",
      "Epoch 75/1000\n",
      "1119/1119 [==============================] - 0s 35us/sample - loss: 0.3675 - mae: 0.3675 - mse: 0.2691\n",
      "Epoch 76/1000\n",
      "1119/1119 [==============================] - 0s 33us/sample - loss: 0.3740 - mae: 0.3740 - mse: 0.2793\n",
      "Epoch 77/1000\n",
      "1119/1119 [==============================] - 0s 33us/sample - loss: 0.3771 - mae: 0.3771 - mse: 0.2801\n",
      "Epoch 78/1000\n",
      "1119/1119 [==============================] - 0s 32us/sample - loss: 0.3750 - mae: 0.3750 - mse: 0.2799\n",
      "Epoch 79/1000\n",
      "1119/1119 [==============================] - 0s 33us/sample - loss: 0.3774 - mae: 0.3774 - mse: 0.2791\n",
      "Epoch 80/1000\n",
      "1119/1119 [==============================] - 0s 32us/sample - loss: 0.3725 - mae: 0.3725 - mse: 0.2750\n",
      "Epoch 81/1000\n",
      "1119/1119 [==============================] - 0s 31us/sample - loss: 0.3718 - mae: 0.3718 - mse: 0.2745\n",
      "Epoch 82/1000\n",
      "1119/1119 [==============================] - 0s 31us/sample - loss: 0.3699 - mae: 0.3699 - mse: 0.2676\n",
      "Epoch 83/1000\n",
      "1119/1119 [==============================] - 0s 34us/sample - loss: 0.3782 - mae: 0.3782 - mse: 0.2822\n",
      "Epoch 84/1000\n",
      "1119/1119 [==============================] - 0s 34us/sample - loss: 0.3565 - mae: 0.3565 - mse: 0.2581\n",
      "Epoch 85/1000\n",
      "1119/1119 [==============================] - 0s 33us/sample - loss: 0.3740 - mae: 0.3740 - mse: 0.2775\n",
      "Epoch 86/1000\n",
      "1119/1119 [==============================] - 0s 34us/sample - loss: 0.3566 - mae: 0.3566 - mse: 0.2582\n",
      "Epoch 87/1000\n",
      "1119/1119 [==============================] - 0s 33us/sample - loss: 0.3707 - mae: 0.3707 - mse: 0.2739\n",
      "Epoch 88/1000\n",
      "1119/1119 [==============================] - 0s 32us/sample - loss: 0.3614 - mae: 0.3614 - mse: 0.2684\n",
      "Epoch 89/1000\n",
      "1119/1119 [==============================] - 0s 33us/sample - loss: 0.3627 - mae: 0.3627 - mse: 0.2638\n",
      "Epoch 90/1000\n",
      "1119/1119 [==============================] - 0s 32us/sample - loss: 0.3643 - mae: 0.3643 - mse: 0.2675\n",
      "Epoch 91/1000\n",
      "1119/1119 [==============================] - 0s 32us/sample - loss: 0.3626 - mae: 0.3626 - mse: 0.2638\n",
      "Epoch 92/1000\n",
      "1119/1119 [==============================] - 0s 32us/sample - loss: 0.3631 - mae: 0.3631 - mse: 0.2701\n",
      "Epoch 93/1000\n",
      "1119/1119 [==============================] - ETA: 0s - loss: 0.2913 - mae: 0.2913 - mse: 0.180 - 0s 33us/sample - loss: 0.3586 - mae: 0.3586 - mse: 0.2643\n",
      "Epoch 94/1000\n",
      "1119/1119 [==============================] - 0s 32us/sample - loss: 0.3556 - mae: 0.3556 - mse: 0.2528\n",
      "Epoch 95/1000\n",
      "1119/1119 [==============================] - 0s 33us/sample - loss: 0.3547 - mae: 0.3547 - mse: 0.2600\n",
      "Epoch 96/1000\n",
      "1119/1119 [==============================] - 0s 33us/sample - loss: 0.3550 - mae: 0.3550 - mse: 0.2540\n",
      "Epoch 97/1000\n",
      "1119/1119 [==============================] - 0s 34us/sample - loss: 0.3443 - mae: 0.3443 - mse: 0.2473\n",
      "Epoch 98/1000\n",
      "1119/1119 [==============================] - 0s 33us/sample - loss: 0.3578 - mae: 0.3578 - mse: 0.2637\n",
      "Epoch 99/1000\n",
      "1119/1119 [==============================] - ETA: 0s - loss: 0.3202 - mae: 0.3202 - mse: 0.190 - 0s 34us/sample - loss: 0.3535 - mae: 0.3535 - mse: 0.2516\n",
      "Epoch 100/1000\n",
      "1119/1119 [==============================] - 0s 37us/sample - loss: 0.3594 - mae: 0.3594 - mse: 0.2573\n",
      "Epoch 101/1000\n",
      "1119/1119 [==============================] - 0s 35us/sample - loss: 0.3460 - mae: 0.3460 - mse: 0.2398\n",
      "Epoch 102/1000\n",
      "1119/1119 [==============================] - 0s 33us/sample - loss: 0.3470 - mae: 0.3470 - mse: 0.2483\n",
      "Epoch 103/1000\n",
      "1119/1119 [==============================] - 0s 33us/sample - loss: 0.3500 - mae: 0.3500 - mse: 0.2539\n",
      "Epoch 104/1000\n",
      "1119/1119 [==============================] - 0s 32us/sample - loss: 0.3478 - mae: 0.3478 - mse: 0.2508\n",
      "Epoch 105/1000\n",
      "1119/1119 [==============================] - 0s 34us/sample - loss: 0.3450 - mae: 0.3450 - mse: 0.2409\n",
      "Epoch 106/1000\n",
      "1119/1119 [==============================] - 0s 32us/sample - loss: 0.3498 - mae: 0.3498 - mse: 0.2467\n",
      "Epoch 107/1000\n",
      "1119/1119 [==============================] - ETA: 0s - loss: 0.3956 - mae: 0.3956 - mse: 0.295 - 0s 33us/sample - loss: 0.3469 - mae: 0.3469 - mse: 0.2450\n"
     ]
    }
   ],
   "source": [
    "EPOCHS = 1000\n",
    "\n",
    "history = model.fit(normed_train_data, train_labels, epochs=EPOCHS, verbose=1, callbacks=[callback_EarlyStop])"
   ]
  },
  {
   "cell_type": "markdown",
   "metadata": {},
   "source": [
    "## History"
   ]
  },
  {
   "cell_type": "code",
   "execution_count": 21,
   "metadata": {},
   "outputs": [
    {
     "data": {
      "text/html": [
       "<div>\n",
       "<style scoped>\n",
       "    .dataframe tbody tr th:only-of-type {\n",
       "        vertical-align: middle;\n",
       "    }\n",
       "\n",
       "    .dataframe tbody tr th {\n",
       "        vertical-align: top;\n",
       "    }\n",
       "\n",
       "    .dataframe thead th {\n",
       "        text-align: right;\n",
       "    }\n",
       "</style>\n",
       "<table border=\"1\" class=\"dataframe\">\n",
       "  <thead>\n",
       "    <tr style=\"text-align: right;\">\n",
       "      <th></th>\n",
       "      <th>loss</th>\n",
       "      <th>mae</th>\n",
       "      <th>mse</th>\n",
       "      <th>epoch</th>\n",
       "    </tr>\n",
       "  </thead>\n",
       "  <tbody>\n",
       "    <tr>\n",
       "      <th>102</th>\n",
       "      <td>0.350013</td>\n",
       "      <td>0.350013</td>\n",
       "      <td>0.253853</td>\n",
       "      <td>102</td>\n",
       "    </tr>\n",
       "    <tr>\n",
       "      <th>103</th>\n",
       "      <td>0.347801</td>\n",
       "      <td>0.347801</td>\n",
       "      <td>0.250776</td>\n",
       "      <td>103</td>\n",
       "    </tr>\n",
       "    <tr>\n",
       "      <th>104</th>\n",
       "      <td>0.345043</td>\n",
       "      <td>0.345043</td>\n",
       "      <td>0.240884</td>\n",
       "      <td>104</td>\n",
       "    </tr>\n",
       "    <tr>\n",
       "      <th>105</th>\n",
       "      <td>0.349831</td>\n",
       "      <td>0.349831</td>\n",
       "      <td>0.246738</td>\n",
       "      <td>105</td>\n",
       "    </tr>\n",
       "    <tr>\n",
       "      <th>106</th>\n",
       "      <td>0.346949</td>\n",
       "      <td>0.346949</td>\n",
       "      <td>0.244992</td>\n",
       "      <td>106</td>\n",
       "    </tr>\n",
       "  </tbody>\n",
       "</table>\n",
       "</div>"
      ],
      "text/plain": [
       "         loss       mae       mse  epoch\n",
       "102  0.350013  0.350013  0.253853    102\n",
       "103  0.347801  0.347801  0.250776    103\n",
       "104  0.345043  0.345043  0.240884    104\n",
       "105  0.349831  0.349831  0.246738    105\n",
       "106  0.346949  0.346949  0.244992    106"
      ]
     },
     "execution_count": 21,
     "metadata": {},
     "output_type": "execute_result"
    }
   ],
   "source": [
    "hist = pd.DataFrame(history.history)\n",
    "hist['epoch'] = history.epoch\n",
    "hist.tail()"
   ]
  },
  {
   "cell_type": "code",
   "execution_count": 22,
   "metadata": {},
   "outputs": [
    {
     "data": {
      "image/png": "[encoded data removed]",
      "text/plain": [
       "<Figure size 432x288 with 1 Axes>"
      ]
     },
     "metadata": {
      "needs_background": "light"
     },
     "output_type": "display_data"
    },
    {
     "data": {
      "image/png": "[encoded data removed]",
      "text/plain": [
       "<Figure size 432x288 with 1 Axes>"
      ]
     },
     "metadata": {
      "needs_background": "light"
     },
     "output_type": "display_data"
    }
   ],
   "source": [
    "def plot_history(history):\n",
    "    hist = pd.DataFrame(history.history)\n",
    "    hist['epoch'] = history.epoch\n",
    "\n",
    "    plt.figure()\n",
    "    plt.xlabel('Epoch')\n",
    "    plt.ylabel('Mean Abs Error [Quality]')\n",
    "    plt.plot(hist['epoch'], hist['mae'],\n",
    "           label='Train Error')\n",
    "    plt.ylim([0,2])\n",
    "    plt.legend()\n",
    "\n",
    "    plt.figure()\n",
    "    plt.xlabel('Epoch')\n",
    "    plt.ylabel('Mean Square Error [Quality]')\n",
    "    plt.plot(hist['epoch'], hist['mse'],\n",
    "           label='Train Error')\n",
    "    plt.ylim([0,2])\n",
    "    plt.legend()\n",
    "    plt.show()\n",
    "\n",
    "\n",
    "plot_history(history)"
   ]
  },
  {
   "cell_type": "markdown",
   "metadata": {},
   "source": [
    "## Test Data"
   ]
  },
  {
   "cell_type": "code",
   "execution_count": 23,
   "metadata": {},
   "outputs": [
    {
     "name": "stdout",
     "output_type": "stream",
     "text": [
      "480/480 - 0s - loss: 0.4854 - mae: 0.4854 - mse: 0.4349\n",
      "Testing set Mean Abs Error:  0.49 Quality\n"
     ]
    }
   ],
   "source": [
    "loss, mae, mse = model.evaluate(normed_test_data, test_labels, verbose=2)\n",
    "print(\"Testing set Mean Abs Error: {:5.2f} Quality\".format(mae))"
   ]
  },
  {
   "cell_type": "markdown",
   "metadata": {},
   "source": [
    "## Make Predictions"
   ]
  },
  {
   "cell_type": "code",
   "execution_count": 24,
   "metadata": {},
   "outputs": [
    {
     "data": {
      "image/png": "[encoded data removed]",
      "text/plain": [
       "<Figure size 432x288 with 1 Axes>"
      ]
     },
     "metadata": {
      "needs_background": "light"
     },
     "output_type": "display_data"
    }
   ],
   "source": [
    "test_predictions = model.predict(normed_test_data).flatten()\n",
    "\n",
    "a = plt.axes(aspect='equal')\n",
    "plt.scatter(test_labels, test_predictions)\n",
    "plt.xlabel('True Values [Quality]')\n",
    "plt.ylabel('Predictions [Quality]')\n",
    "lims = [0, 10]\n",
    "plt.xlim(lims)\n",
    "plt.ylim(lims)\n",
    "_ = plt.plot(lims, lims)"
   ]
  },
  {
   "cell_type": "markdown",
   "metadata": {},
   "source": [
    "## Error Predictions"
   ]
  },
  {
   "cell_type": "code",
   "execution_count": 25,
   "metadata": {},
   "outputs": [
    {
     "data": {
      "image/png": "[encoded data removed]",
      "text/plain": [
       "<Figure size 432x288 with 1 Axes>"
      ]
     },
     "metadata": {
      "needs_background": "light"
     },
     "output_type": "display_data"
    }
   ],
   "source": [
    "error = test_predictions - test_labels\n",
    "plt.hist(error, bins = 25)\n",
    "plt.xlabel(\"Prediction Error [Quality]\")\n",
    "_ = plt.ylabel(\"Count\")"
   ]
  }
 ],
 "metadata": {
  "kernelspec": {
   "display_name": "Python 3",
   "language": "python",
   "name": "python3"
  },
  "language_info": {
   "codemirror_mode": {
    "name": "ipython",
    "version": 3
   },
   "file_extension": ".py",
   "mimetype": "text/x-python",
   "name": "python",
   "nbconvert_exporter": "python",
   "pygments_lexer": "ipython3",
   "version": "3.7.6"
  }
 },
 "nbformat": 4,
 "nbformat_minor": 4
}
